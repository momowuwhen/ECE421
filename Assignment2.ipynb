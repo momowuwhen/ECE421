{
  "nbformat": 4,
  "nbformat_minor": 0,
  "metadata": {
    "colab": {
      "name": "Assignment2.ipynb",
      "provenance": []
    },
    "kernelspec": {
      "name": "python3",
      "display_name": "Python 3"
    },
    "language_info": {
      "name": "python"
    }
  },
  "cells": [
    {
      "cell_type": "code",
      "execution_count": 9,
      "metadata": {
        "id": "sI7H86tRd6cD"
      },
      "outputs": [],
      "source": [
        "import tensorflow as tf\n",
        "import numpy as np\n",
        "import matplotlib.pyplot as plt\n",
        "import time\n",
        "import os\n",
        "os.environ['TF_CPP_MIN_LOG_LEVEL'] = '3'\n",
        "\n",
        "# Load the data\n",
        "def load_data():\n",
        "    with np.load(\"notMNIST.npz\") as data:\n",
        "        data, targets = data[\"images\"], data[\"labels\"]\n",
        "        \n",
        "        np.random.seed(521)\n",
        "        rand_idx = np.arange(len(data))\n",
        "        np.random.shuffle(rand_idx)\n",
        "        \n",
        "        data = data[rand_idx] / 255.0\n",
        "        targets = targets[rand_idx].astype(int)\n",
        "        \n",
        "        train_data, train_target = data[:10000], targets[:10000]\n",
        "        valid_data, valid_target = data[10000:16000], targets[10000:16000]\n",
        "        test_data, test_target = data[16000:], targets[16000:]\n",
        "    return train_data, valid_data, test_data, train_target, valid_target, test_target\n",
        "\n",
        "def convert_onehot(train_target, valid_target, test_target):\n",
        "    new_train = np.zeros((train_target.shape[0], 10))\n",
        "    new_valid = np.zeros((valid_target.shape[0], 10))\n",
        "    new_test = np.zeros((test_target.shape[0], 10))\n",
        "\n",
        "    for item in range(0, train_target.shape[0]):\n",
        "        new_train[item][train_target[item]] = 1\n",
        "    for item in range(0, valid_target.shape[0]):\n",
        "        new_valid[item][valid_target[item]] = 1\n",
        "    for item in range(0, test_target.shape[0]):\n",
        "        new_test[item][test_target[item]] = 1\n",
        "    return new_train, new_valid, new_test\n",
        "\n",
        "def shuffle(data, target):\n",
        "    np.random.seed(421)\n",
        "    rand_idx = np.random.permutation(len(data))\n",
        "    return data[rand_idx], target[rand_idx]"
      ]
    },
    {
      "cell_type": "code",
      "source": [
        "# 1.1 Helper Functions\n",
        "# Implementation of a neural network using only Numpy - trained using gradient descent with momentum\n",
        "def relu(x):\n",
        "    # TODO\n",
        "    relu_x = np.maximum(x, 0)\n",
        "    return relu_x\n",
        "    # pass\n",
        "\n",
        "\n",
        "def softmax(x):\n",
        "    # TODO\n",
        "    x = x - np.max(x, axis=1, keepdims=True)\n",
        "    softmax_x = np.exp(x)/np.sum(np.exp(x), axis=1, keepdims=True)\n",
        "    return softmax_x\n",
        "    # pass\n",
        "\n",
        "def compute_layer(x, w, b):\n",
        "    # TODO\n",
        "    compute_layer = np.dot(x, w) + b\n",
        "    return compute_layer\n",
        "    # pass\n",
        "\n",
        "def average_ce(target, prediction):\n",
        "    # TODO\n",
        "    average_ce = - np.mean(np.multiply(target, np.log(prediction)))\n",
        "    return average_ce\n",
        "    # pass\n",
        "\n",
        "def grad_ce(target, logits):\n",
        "    # TODO\n",
        "    grad_ce = logits - target\n",
        "    return grad_ce\n",
        "    # pass\n"
      ],
      "metadata": {
        "id": "UMygBpJvxA61"
      },
      "execution_count": 10,
      "outputs": []
    },
    {
      "cell_type": "code",
      "source": [
        "# 1.2 Backpropagation Derivation\n",
        "# the gradient of the loss with respect to the output layer weights.\n",
        "def dL_dWo(target, logits, hidden_layer_out):\n",
        "    grad = grad_ce(target, logits)\n",
        "    dL_dWo = np.dot(hidden_layer_out.T, grad)\n",
        "    return dL_dWo\n",
        "\n",
        "# the gradient of the loss with respect to the output layer biases.\n",
        "def dL_dbo(target, logits):\n",
        "    ones = np.ones((1, target.shape[0]))\n",
        "    grad = grad_ce(target, logits)\n",
        "    dL_dbo = np.dot(ones, grad)\n",
        "    return dL_dbo\n",
        "\n",
        "# the gradient of the loss with respect to the hidden layer weights.\n",
        "def dL_dWh(d_relu, input, target, logits, Wout):\n",
        "    d_relu[d_relu >= 0] = 1\n",
        "    d_relu[d_relu < 0] = 0\n",
        "    grad = grad_ce(target, logits)\n",
        "    dL_dWh = np.dot(input.T, (d_relu * np.dot(grad, Wout.T)))\n",
        "    return dL_dWh\n",
        "\n",
        "# the gradient of the loss with respect to the hidden layer biases.\n",
        "def dL_dbh(target, logits, d_relu, Wout):\n",
        "    d_relu[d_relu >= 0] = 1\n",
        "    d_relu[d_relu < 0] = 0\n",
        "    ones = np.ones((1, d_relu.shape[0]))\n",
        "    grad = grad_ce(target, logits)\n",
        "    dL_dbh = np.dot(ones, (d_relu * np.dot(grad, Wout.T)))\n",
        "    return dL_dbh"
      ],
      "metadata": {
        "id": "hE6gnr-yw27W"
      },
      "execution_count": 11,
      "outputs": []
    },
    {
      "cell_type": "code",
      "source": [
        "# 1.3 Learning\n",
        "def train(train_data, train_target, valid_data, valid_target, test_data, test_target, epochs, num_hidden_units, gamma, alpha):\n",
        "    # initialization\n",
        "    train_loss = np.zeros(epochs)\n",
        "    train_accuracy = np.zeros(epochs)\n",
        "    valid_loss = np.zeros(epochs)\n",
        "    valid_accuracy = np.zeros(epochs)\n",
        "    test_loss = np.zeros(epochs)\n",
        "    test_accuracy = np.zeros(epochs)\n",
        "\n",
        "    Wo = np.random.normal(0, np.sqrt(2 / (num_hidden_units + 10)), (num_hidden_units, 10))\n",
        "    bo = np.zeros((1, 10))\n",
        "    Wh = np.random.normal(0, np.sqrt(2 / (28*28 + num_hidden_units)), (28*28, num_hidden_units))\n",
        "    bh = np.zeros((1, num_hidden_units))\n",
        "    \n",
        "    Wo_new = np.zeros((num_hidden_units, 10))\n",
        "    bo_new = np.zeros((1, 10))\n",
        "    Wh_new = np.zeros((28*28, num_hidden_units))\n",
        "    bh_new = np.zeros((1, num_hidden_units))\n",
        "\n",
        "    train_size = train_data.shape[0]\n",
        "    valid_size = valid_data.shape[0]\n",
        "    test_size = test_data.shape[0]\n",
        "    for i in range(epochs):\n",
        "      train_hi = compute_layer(train_data, Wh, bh) # hi = hidden input\n",
        "      train_ho = relu(train_hi) # ho = hidden_output\n",
        "      train_prediction = softmax(compute_layer(train_ho, Wo, bo))\n",
        "      train_prediction_label = np.argmax(train_prediction, axis=1)\n",
        "      train_target_label = np.argmax(train_target, axis=1)\n",
        "      train_loss[i] = average_ce(train_target, train_prediction)\n",
        "      train_accuracy[i] = ( np.sum(train_target_label == train_prediction_label) / train_size )\n",
        "\n",
        "      valid_hi = compute_layer(valid_data, Wh, bh)\n",
        "      valid_ho = relu(valid_hi)\n",
        "      valid_prediction = softmax(compute_layer(valid_ho, Wo, bo))\n",
        "      valid_prediction_label = np.argmax(valid_prediction, axis=1)\n",
        "      valid_target_label = np.argmax(valid_target, axis=1)\n",
        "      valid_loss[i] = average_ce(valid_target, valid_prediction)\n",
        "      valid_accuracy[i] = ( np.sum(valid_target_label == valid_prediction_label) / valid_size )\n",
        "\n",
        "      test_hi = compute_layer(test_data, Wh, bh)\n",
        "      test_ho = relu(test_hi)\n",
        "      test_prediction = softmax(compute_layer(test_ho, Wo, bo))\n",
        "      test_prediction_label = np.argmax(test_prediction, axis=1)\n",
        "      test_target_label = np.argmax(test_target, axis=1)\n",
        "      test_loss[i] = average_ce(test_target, test_prediction)\n",
        "      test_accuracy[i] = ( np.sum(test_target_label == test_prediction_label) / test_size )\n",
        "      \n",
        "      # update\n",
        "      Wo_new = alpha * dL_dWo(train_target, train_prediction, train_ho) + gamma * Wo_new \n",
        "      Wo = Wo - Wo_new\n",
        "      bo_new = alpha * dL_dbo(train_target, train_prediction) + gamma * bo_new \n",
        "      bo = bo - bo_new\n",
        "      Wh_new = alpha * dL_dWh(train_hi, train_data, train_target, train_prediction, Wo) + gamma * Wh_new \n",
        "      Wh = Wh - Wh_new\n",
        "      bh_new =  alpha * dL_dbh(train_target, train_prediction, train_hi, Wo) + gamma * bh_new \n",
        "      bh = bh - bh_new\n",
        "\n",
        "    # loss plot\n",
        "    train_label = \"Train\"\n",
        "    valid_label = \"Validation\"\n",
        "    test_label = \"Test\"\n",
        "    plt.title(\"Train, Validation and Test Loss\")\n",
        "    plt.plot(range(1, len(train_loss) + 1), train_loss, label=train_label)\n",
        "    plt.plot(range(1, len(train_loss) + 1), valid_loss, label=valid_label)\n",
        "    plt.plot(range(1, len(train_loss) + 1), test_loss, label=test_label)\n",
        "    plt.xlabel(\"Epoch\")\n",
        "    plt.ylabel(\"Loss\")\n",
        "    plt.legend(loc='best')\n",
        "    plt.grid()\n",
        "    plt.show()\n",
        "    \n",
        "    # accuracy plot\n",
        "    train_label = \"Train\"\n",
        "    valid_label = \"Validation\"\n",
        "    test_label = \"Test\"\n",
        "    plt.title(\"Train, Validation and Test Accuracy\")\n",
        "    plt.plot(range(1, len(train_accuracy) + 1), train_accuracy, label=train_label)\n",
        "    plt.plot(range(1, len(train_accuracy) + 1), valid_accuracy, label=valid_label)\n",
        "    plt.plot(range(1, len(train_accuracy) + 1), test_accuracy, label=test_label)\n",
        "    plt.xlabel(\"Epoch\")\n",
        "    plt.ylabel(\"Accuracy\")\n",
        "    plt.legend(loc='best')\n",
        "    plt.grid()\n",
        "    plt.show()\n",
        "\n",
        "    # print final accuracy\n",
        "    print(f\"Final train accuracy is: {train_accuracy[-1]}\")\n",
        "    print(f\"Final validation accuracy is: {valid_accuracy[-1]}\")\n",
        "    print(f\"Final test accuracy is: {test_accuracy[-1]}\")\n",
        "\n",
        "if __name__ == '__main__':\n",
        "  # load, initialize\n",
        "  train_data, valid_data, test_data, trainTarget, validTarget, testTarget = load_data()\n",
        "  train_target, valid_target, test_target = convert_onehot(trainTarget, validTarget, testTarget)\n",
        "  train_data = train_data.reshape(train_data.shape[0], -1)\n",
        "  valid_data = valid_data.reshape(valid_data.shape[0], -1)\n",
        "  test_data = test_data.reshape(test_data.shape[0], -1)\n",
        "\n",
        "  # train\n",
        "  train(train_data, train_target, train_target, valid_target, test_data, test_target, 200, 1000, 0.9, 1e-5)"
      ],
      "metadata": {
        "colab": {
          "base_uri": "https://localhost:8080/",
          "height": 625
        },
        "id": "CdCpU-W3xeU7",
        "outputId": "0c6891bd-5041-42af-f288-a97c9c176a3b"
      },
      "execution_count": 14,
      "outputs": [
        {
          "output_type": "display_data",
          "data": {
            "image/png": "[encoded data removed]",
            "text/plain": [
              "<Figure size 432x288 with 1 Axes>"
            ]
          },
          "metadata": {
            "needs_background": "light"
          }
        },
        {
          "output_type": "display_data",
          "data": {
            "image/png": "[encoded data removed]",
            "text/plain": [
              "<Figure size 432x288 with 1 Axes>"
            ]
          },
          "metadata": {
            "needs_background": "light"
          }
        },
        {
          "output_type": "stream",
          "name": "stdout",
          "text": [
            "Final train accuracy is: 0.9775\n",
            "Final validation accuracy is: 0.9121666666666667\n",
            "Final test accuracy is: 0.9100587371512482\n"
          ]
        }
      ]
    }
  ]
}