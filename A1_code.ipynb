{
  "nbformat": 4,
  "nbformat_minor": 0,
  "metadata": {
    "colab": {
      "name": "A1_Part1.ipynb",
      "provenance": [],
      "collapsed_sections": []
    },
    "kernelspec": {
      "name": "python3",
      "display_name": "Python 3"
    },
    "language_info": {
      "name": "python"
    }
  },
  "cells": [
    {
      "cell_type": "code",
      "execution_count": 122,
      "metadata": {
        "colab": {
          "base_uri": "https://localhost:8080/",
          "height": 140
        },
        "id": "P-DRzRekTioW",
        "outputId": "71755ba3-a259-492b-9c30-4ff5ad175c67"
      },
      "outputs": [
        {
          "output_type": "stream",
          "name": "stdout",
          "text": [
            "3500\n",
            "100\n",
            "145\n"
          ]
        },
        {
          "output_type": "execute_result",
          "data": {
            "application/vnd.google.colaboratory.intrinsic+json": {
              "type": "string"
            },
            "text/plain": [
              "'  \\ndef grad_descent(w, b, x, y, alpha, epochs, reg, error_tol=1e-7):\\n    # Your implementation here\\n    for i in range(epochs):\\n      grad_w, grad_b = loss(w, b, x, y ,reg)\\n      w_new = w - alpha * grad_w\\n      b_new = b - alpha * grad_b\\n      diff = np.linalg.norm(w_new - w)\\n      if diff < error_tol:\\n        return w_new, b_new\\n      else:\\n        w = w_new\\n        b = b_new\\n    return w, b\\n'"
            ]
          },
          "metadata": {},
          "execution_count": 122
        }
      ],
      "source": [
        "# Part 1\n",
        "import tensorflow as tf\n",
        "import numpy as np\n",
        "import matplotlib.pyplot as plt\n",
        "import time\n",
        "\n",
        "def loadData():\n",
        "    with np.load('notMNIST.npz') as dataset:\n",
        "        Data, Target = dataset['images'], dataset['labels']\n",
        "        posClass = 2\n",
        "        negClass = 9\n",
        "        dataIndx = (Target==posClass) + (Target==negClass)\n",
        "        Data = Data[dataIndx]/255.\n",
        "        Target = Target[dataIndx].reshape(-1, 1)\n",
        "        Target[Target==posClass] = 1\n",
        "        Target[Target==negClass] = 0\n",
        "        np.random.seed(421)\n",
        "        randIndx = np.arange(len(Data))\n",
        "        np.random.shuffle(randIndx)\n",
        "        Data, Target = Data[randIndx], Target[randIndx]\n",
        "        trainData, trainTarget = Data[:3500], Target[:3500]\n",
        "        validData, validTarget = Data[3500:3600], Target[3500:3600]\n",
        "        testData, testTarget = Data[3600:], Target[3600:]\n",
        "    return trainData, validData, testData, trainTarget, validTarget, testTarget\n",
        "\n",
        "[trainData, validData, testData, trainTarget, validTarget, testTarget] = loadData()\n",
        "\n",
        "print(len(trainData))\n",
        "print(len(validData))\n",
        "print(len(testData))\n",
        "\n",
        "def loss(w, b, x, y, reg):\n",
        "    num_example = x.shape[0]\n",
        "    num_dimension = x.shape[1] * x.shape[2]\n",
        "    w = w.reshape((num_dimension, 1))\n",
        "    x = x.reshape((num_example, num_dimension))\n",
        "    # Your implementation here\n",
        "    #z = np.matmul(x,w)+b\n",
        "    z = np.dot(x,w)+b\n",
        "    y_hat = 1.0 / ( 1.0 + np.exp(-(z)) )\n",
        "    loss = ( np.sum(-(y*np.log(y_hat)+(1-y)*np.log(1-y_hat))) )/( np.shape(y)[0] ) + reg / 2*np.sum( w*w )\n",
        "    return loss\n",
        "\n",
        "def grad_loss(w, b, x, y, reg):\n",
        "    # Your implementation here\n",
        "    z = np.matmul(x, w) + b\n",
        "    y_hat = 1.0/(1.0+np.exp(-z))\n",
        "    grad_w = np.dot( x.T, y_hat - y ) / len( y ) + ( reg * w )\n",
        "    grad_b = np.sum((y_hat - y)) / len(y)\n",
        "    # grad_b = np.sum((y_hat - y))/(np.shape(y)[0])\n",
        "    return grad_w, grad_b\n",
        " \n",
        "def grad_descent(w, b, x, y, alpha, epochs, reg, error_tol=1e-7):\n",
        "    # Your implementation here\n",
        "    for i in range(epochs):\n",
        "      grad_w, grad_b = loss(w, b, x, y ,reg)\n",
        "      w_new = w - alpha * grad_w\n",
        "      b_new = b - alpha * grad_b\n",
        "      diff = np.linalg.norm(w_new - w)\n",
        "      if diff < error_tol:\n",
        "        return w_new, b_new\n",
        "      else:\n",
        "        w = w_new\n",
        "        b = b_new\n",
        "    return w, b\n"
      ]
    },
    {
      "cell_type": "code",
      "source": [
        "def plot_loss(train_loss, valid_loss):\n",
        "    print(\"train len:\", len(train_loss))\n",
        "    print(\"valid len:\", len(valid_loss))\n",
        "    train_label = \"Train\"\n",
        "    valid_label = \"Validation\"\n",
        "    plt.title(\"Train vs Validation Loss\")\n",
        "    n = len(train_loss) # number of epochs\n",
        "    plt.plot(range(1,n+1), train_loss, label=train_label)\n",
        "    plt.plot(range(1,n+1), valid_loss, label=valid_label)\n",
        "    plt.xlabel(\"Epoch\")\n",
        "    plt.ylabel(\"Loss\")\n",
        "    plt.legend(loc='best')\n",
        "    plt.grid()\n",
        "\n",
        "def plot_accuracy(train_accuracy, valid_accuracy):\n",
        "    train_label = \"Train\"\n",
        "    valid_label = \"Validation\"\n",
        "    plt.title(\"Train vs Validation Accuracy\")\n",
        "    n = len(train_accuracy) # number of epochs\n",
        "    plt.plot(range(1,n+1), train_accuracy, label=train_label)\n",
        "    plt.plot(range(1,n+1), valid_accuracy, label=valid_label)\n",
        "    plt.xlabel(\"Epoch\")\n",
        "    plt.ylabel(\"Accuracy\")\n",
        "    plt.legend(loc='best')\n",
        "    plt.grid()"
      ],
      "metadata": {
        "id": "rJm_IlHf7zKa"
      },
      "execution_count": 81,
      "outputs": []
    },
    {
      "cell_type": "code",
      "source": [
        "# grad descent with more input and output\n",
        "def grad_descent(w, b, trainingData, trainingLabels, alpha, epochs, reg, error_tol,\n",
        "                 validData, testData, validTarget, testTarget):\n",
        "  \n",
        "    train_loss = [loss(w, b, trainingData, trainingLabels, reg)]\n",
        "    valid_loss = [loss(w, b, validData, validTarget, reg)]\n",
        "    test_loss = [loss(w, b, testData, testTarget, reg)]\n",
        "\n",
        "    out_train = np.matmul(trainData, w)+b\n",
        "    train_accur = [np.sum((out_train>=0.5)==trainTarget)/(trainData.shape[0])]\n",
        "\n",
        "    out_valid = np.matmul(validData,w)+b\n",
        "    valid_accur = [np.sum((out_valid>=0.5)==validTarget)/(validTarget.shape[0])]\n",
        "\n",
        "    out_test = np.matmul(testData,w)+b\n",
        "    test_accur = [np.sum((out_test>=0.5)==testTarget)/(testData.shape[0])]\n",
        "    \n",
        "    for i in range(epochs):\n",
        "        grad_w, grad_b = grad_loss(w, b, trainingData, trainingLabels, reg)\n",
        "        w_new = w - alpha * grad_w\n",
        "        b_new = b - alpha * grad_b\n",
        "        train_loss.append(loss(w_new, b_new, trainingData, trainingLabels, reg))\n",
        "        valid_loss.append(loss(w_new, b_new, validData, validTarget, reg))\n",
        "        test_loss.append(loss(w_new, b_new, testData, testTarget, reg))\n",
        "        out_train = np.matmul(trainData, w_new) + b_new\n",
        "        train_accur.append(np.sum((out_train>=0.5)==trainTarget)/(trainData.shape[0]))\n",
        "\n",
        "        out_valid = np.matmul(validData, w_new) + b_new\n",
        "        valid_accur.append(np.sum((out_valid>=0.5)==validTarget)/(validTarget.shape[0]))\n",
        "\n",
        "        out_test = np.matmul(testData, w_new) + b_new\n",
        "        test_accur.append(np.sum((out_test>=0.5)==testTarget)/(testData.shape[0]))\n",
        "\n",
        "        if np.linalg.norm(w_new - w) < error_tol:\n",
        "            return w_new, b_new, train_loss, valid_loss, test_loss, train_accur, valid_accur, test_accur\n",
        "        else:\n",
        "            w = w_new\n",
        "            b = b_new\n",
        "    return w, b, train_loss, valid_loss, test_loss, train_accur, valid_accur, test_accur"
      ],
      "metadata": {
        "id": "ElMby5gCkvko"
      },
      "execution_count": 82,
      "outputs": []
    },
    {
      "cell_type": "code",
      "source": [
        "if __name__ == '__main__': \n",
        "    # load data from npz\n",
        "    trainData, validData, testData, trainTarget, validTarget, testTarget = loadData()\n",
        "    trainData = trainData.reshape((trainData.shape[0], trainData.shape[1]*trainData.shape[2]))\n",
        "    validData = validData.reshape((-1,validData.shape[1]*validData.shape[2])) \n",
        "    testData = testData.reshape((-1,testData.shape[1]*testData.shape[2]))\n",
        "\n",
        "    # mean and stdv\n",
        "    w = np.random.normal(0, 0.5, (trainData.shape[1],1))\n",
        "    b = 0\n",
        "\n",
        "    # parameters\n",
        "    error_tol = 1e-7\n",
        "    epochs = 5000\n",
        "    reg = 0.5\n",
        "    alpha_1 = 0.005\n",
        "\n",
        "    # gradient descent function\n",
        "    w, b, train_loss, valid_loss, test_loss, train_accur, valid_accur, test_accur = grad_descent(w, b, trainData, trainTarget, alpha_1, epochs, reg, error_tol, validData, testData, validTarget, testTarget)\n",
        "    \n",
        "    # accuracy\n",
        "    out = np.matmul(trainData, w) + b\n",
        "    out_valid = np.matmul(validData, w) + b\n",
        "    out_test = np.matmul(testData, w) + b\n",
        "    train_len = trainData.shape[0]\n",
        "    valid_len = validData.shape[0]\n",
        "    test_len = testData.shape[0]\n",
        "    # print(\"train_len:\", train_len)\n",
        "    # print(\"valid_len:\", valid_len)\n",
        "    # print(\"test_len:\", test_len)\n",
        "\n",
        "    # print results\n",
        "    training_acc = np.sum((out >= 0.5) == trainTarget)/(train_len)\n",
        "    print(\"Training data accuracy: \", training_acc)\n",
        "    valid_acc = np.sum((out_valid >= 0.5) == validTarget)/(valid_len)\n",
        "    print(\"Valid data accuracy: \", valid_acc)\n",
        "    test_acc = np.sum((out_test >= 0.5) == testTarget)/(test_len)\n",
        "    print(\"Test data accuracy: \", test_acc)\n",
        "    \n",
        "    # plots\n",
        "    plot_loss(train_loss, valid_loss)\n",
        "    plt.show()\n",
        "    plot_accuracy(train_accur, valid_accur)\n",
        "    plt.show()"
      ],
      "metadata": {
        "colab": {
          "base_uri": "https://localhost:8080/",
          "height": 712
        },
        "id": "XP4hFczyMWjR",
        "outputId": "f8ad4bea-dd6c-4a8e-ca7e-73e13f203677"
      },
      "execution_count": 83,
      "outputs": [
        {
          "output_type": "stream",
          "name": "stdout",
          "text": [
            "train_len: 3500\n",
            "valid_len: 100\n",
            "test_len: 145\n",
            "Training data accuracy:  0.9628571428571429\n",
            "Valid data accuracy:  0.97\n",
            "Test data accuracy:  0.9655172413793104\n",
            "train len: 5001\n",
            "valid len: 5001\n"
          ]
        },
        {
          "output_type": "display_data",
          "data": {
            "image/png": "[encoded data removed]",
            "text/plain": [
              "<Figure size 432x288 with 1 Axes>"
            ]
          },
          "metadata": {
            "needs_background": "light"
          }
        },
        {
          "output_type": "display_data",
          "data": {
            "image/png": "[encoded data removed]",
            "text/plain": [
              "<Figure size 432x288 with 1 Axes>"
            ]
          },
          "metadata": {
            "needs_background": "light"
          }
        }
      ]
    },
    {
      "cell_type": "code",
      "source": [
        "# Part 2\n",
        "import tensorflow as tf\n",
        "import numpy as np\n",
        "import matplotlib.pyplot as plt\n",
        "import time\n",
        "# Add the import statements \n",
        "import tensorflow.compat.v1 as tf\n",
        "tf.disable_v2_behavior()\n",
        "\n",
        "# Change it to the sample expression as follows. \n",
        "# init = tf.compat.v1.random.truncated_normal()\n",
        "\n",
        "def loadData():\n",
        "    with np.load('notMNIST.npz') as data :\n",
        "        Data, Target = data ['images'], data['labels']\n",
        "        posClass = 2\n",
        "        negClass = 9\n",
        "        dataIndx = (Target==posClass) + (Target==negClass)\n",
        "        Data = Data[dataIndx]/255.\n",
        "        Target = Target[dataIndx].reshape(-1, 1)\n",
        "        Target[Target==posClass] = 1\n",
        "        Target[Target==negClass] = 0\n",
        "        np.random.seed(421)\n",
        "        randIndx = np.arange(len(Data))\n",
        "        np.random.shuffle(randIndx)\n",
        "        Data, Target = Data[randIndx], Target[randIndx]\n",
        "        trainData, trainTarget = Data[:3500], Target[:3500]\n",
        "        validData, validTarget = Data[3500:3600], Target[3500:3600]\n",
        "        testData, testTarget = Data[3600:], Target[3600:]\n",
        "    return trainData, validData, testData, trainTarget, validTarget, testTarget\n",
        "\n",
        "def accuracy(predictions, labels):\n",
        "    return (np.sum((predictions>=0.5)==labels) / np.shape(predictions)[0])\n",
        "\n",
        "\n",
        "def buildGraph(batch_size, learning_rate=0.001, beta1=0.9, beta2=0.999, error_tol=1e-07):\n",
        "  tf.set_random_seed(421)\n",
        "  # initialize w, b, loss, optimizer\n",
        "  w = tf.Variable(tf.truncated_normal(dtype=tf.float32, shape=(28*28, 1), mean=0.0, stddev=0.5))\n",
        "  b = tf.Variable(tf.zeros(1))\n",
        "  x = tf.placeholder(dtype=tf.float32, shape=(batch_size, 28*28), name='x')\n",
        "  y = tf.placeholder(dtype=tf.float32, shape=(batch_size, 1), name='y')\n",
        "  predicted_labels = tf.sigmoid(tf.matmul(x, w) + b)\n",
        "  loss = tf.losses.sigmoid_cross_entropy(y, predicted_labels)\n",
        "  optimizer = tf.train.AdamOptimizer(learning_rate, beta1, beta2, error_tol).minimize(loss)\n",
        "  reg = tf.nn.l2_loss(w)\n",
        "  \n",
        "  return w, b, predicted_labels, x, y, loss, optimizer, reg\n",
        "\n",
        "def SGD(batch_size, epochs=700, learning_rate=0.001, beta1=0.9, beta2=0.999, error_tol=1e-07):\n",
        "  beta = 0\n",
        "  graph = tf.Graph()\n",
        "\n",
        "  with graph.as_default():\n",
        "    # call buildGraph for returned values\n",
        "    w, b, predicted_labels, x, y, loss, optimizer, reg = buildGraph(batch_size)\n",
        "    \n",
        "    # initialize for valid and test\n",
        "    valid_data = tf.placeholder(tf.float32, shape=(100, 28*28))\n",
        "    valid_label = tf.placeholder(tf.int8, shape=(100, 1))\n",
        "\n",
        "    test_data = tf.placeholder(tf.float32, shape=(145, 28*28))\n",
        "    test_label = tf.placeholder(tf.int8, shape=(145, 1))\n",
        "\n",
        "    # valid and test predict\n",
        "    logits = tf.matmul(valid_data,w) + b \n",
        "    valid_prediction = tf.sigmoid(tf.matmul(valid_data, w) + b)\n",
        "    valid_loss = tf.losses.sigmoid_cross_entropy(valid_label, valid_prediction)\n",
        "    reg = tf.nn.l2_loss(w)\n",
        "    valid_loss = valid_loss + beta/2.0 * reg\n",
        "\n",
        "    logits = tf.matmul(test_data,w) + b \n",
        "    test_prediction = tf.sigmoid(tf.matmul(test_data, w) + b)\n",
        "    test_loss = tf.losses.sigmoid_cross_entropy(test_label, test_prediction)\n",
        "    reg = tf.nn.l2_loss(w)\n",
        "    test_loss = test_loss + beta/2.0 * reg\n",
        "    \n",
        "    # open a session for graph\n",
        "    with tf.Session(graph=graph) as session:\n",
        "      tf.global_variables_initializer().run()\n",
        "      # ini\n",
        "      train_loss = []\n",
        "      valid_loss = []\n",
        "      test_loss = []\n",
        "      train_accur = []\n",
        "      valid_accur = []\n",
        "      test_accur = []\n",
        "\n",
        "      batches = int(3500/batch_size)\n",
        "      \n",
        "      \n",
        "      for epoch in range(epochs): \n",
        "        trainData, validData, testData, trainTarget, validTarget, testTarget = loadData()\n",
        "        trainData = trainData.reshape((trainData.shape[0], trainData.shape[1]*trainData.shape[2]))\n",
        "        validData = validData.reshape((-1,validData.shape[1]*validData.shape[2])) \n",
        "        testData = testData.reshape((-1,testData.shape[1]*testData.shape[2]))\n",
        "\n",
        "        for batch in range(batches):\n",
        "          # save space\n",
        "          batchX = trainData[batch * batch_size: (batch+1) * batch_size,]\n",
        "          batchY = trainTarget[batch * batch_size: (batch+1) * batch_size]\n",
        "          \n",
        "          # run session\n",
        "          _, trainedW, trainedB, trainLoss, trainPrediction, validLoss, validPrediction, testLoss, testPrediction = session.run(\n",
        "          [optimizer, w, b, loss, predicted_labels, valid_loss, valid_prediction, test_loss, test_prediction], \n",
        "          {x: batchX, \n",
        "          y: batchY,\n",
        "          valid_data: validData,\n",
        "          valid_label: validTarget,\n",
        "          test_data: testData,\n",
        "          test_label: testTarget})\n",
        "                      \n",
        "        if (epoch % 1 == 0): # if epoch iteration finished\n",
        "          # append accuracy\n",
        "          train_accur.append(accuracy(trainPrediction, batchY))\n",
        "          valid_accur.append(accuracy(validPrediction, validTarget))\n",
        "          test_accur.append(accuracy(testPrediction, testTarget))\n",
        "          # append loss\n",
        "          train_loss.append(trainLoss)\n",
        "          valid_loss.append(validLoss)\n",
        "          test_loss.append(testLoss)\n",
        "\n",
        "    x_range = range(epochs)   # 700\n",
        "\n",
        "    # plot accuracy\n",
        "    plt.title(\"Train, Validation and Test Accuracy\")\n",
        "    plt.plot(x_range,train_accur)\n",
        "    plt.plot(x_range,valid_accur)\n",
        "    plt.plot(x_range,test_accur)\n",
        "    plt.legend(['train accuracy', 'valid accuracy', 'test accuracy'], loc='lower right')\n",
        "    plt.show()\n",
        "    #print(\"Final Train Accuracy:\", train_accur[epochs-1])\n",
        "    #print(\"Final Validation Accuracy:\", valid_accur[epochs-1])\n",
        "    #print(\"Final Test Accuracy:\", test_accur[epochs-1])\n",
        "\n",
        "    # plot loss\n",
        "    plt.title(\"Train, Validation and Test Loss\")\n",
        "    plt.plot(x_range,train_loss)\n",
        "    plt.plot(x_range,valid_loss)\n",
        "    plt.plot(x_range,test_loss)\n",
        "    plt.legend(['train loss', 'valid loss', 'test loss'], loc='upper right')\n",
        "    plt.show()\n",
        "    #print(\"Final Train Loss:\", train_loss[epochs-1])\n",
        "    #print(\"Final Validation Loss:\", valid_loss[epochs-1])\n",
        "    #print(\"Final Test Accuracy:\", test_loss[epochs-1])\n",
        "    \n",
        "    return trainedW, trainedB, (predictions>=0.5), trainTarget, trainLoss, optimizer, reg\n",
        "\n",
        "\n",
        "trainedW, trainedB, predictions, trainTarget, trainLoss, optimizer, reg = SGD(batch_size=1750, epochs=700, learning_rate=0.001, beta1=0.9, beta2=0.999, error_tol=1e-07)"
      ],
      "metadata": {
        "colab": {
          "base_uri": "https://localhost:8080/",
          "height": 617
        },
        "id": "tjNVGjOtBG1E",
        "outputId": "5df76a01-6e21-4c22-85a4-dc17c0374c37"
      },
      "execution_count": 1,
      "outputs": [
        {
          "output_type": "stream",
          "name": "stdout",
          "text": [
            "WARNING:tensorflow:From /usr/local/lib/python3.7/dist-packages/tensorflow/python/compat/v2_compat.py:111: disable_resource_variables (from tensorflow.python.ops.variable_scope) is deprecated and will be removed in a future version.\n",
            "Instructions for updating:\n",
            "non-resource variables are not supported in the long term\n"
          ]
        },
        {
          "output_type": "display_data",
          "data": {
            "image/png": "[encoded data removed]",
            "text/plain": [
              "<Figure size 432x288 with 1 Axes>"
            ]
          },
          "metadata": {
            "needs_background": "light"
          }
        },
        {
          "output_type": "display_data",
          "data": {
            "image/png": "[encoded data removed]",
            "text/plain": [
              "<Figure size 432x288 with 1 Axes>"
            ]
          },
          "metadata": {
            "needs_background": "light"
          }
        }
      ]
    }
  ]
}